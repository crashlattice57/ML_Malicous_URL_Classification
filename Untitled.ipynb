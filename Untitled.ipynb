{
 "cells": [
  {
   "cell_type": "code",
   "execution_count": null,
   "id": "32881313",
   "metadata": {},
   "outputs": [],
   "source": [
    "import pandas as pd\n",
    "import numpy as np"
   ]
  },
  {
   "cell_type": "code",
   "execution_count": null,
   "id": "648420ae",
   "metadata": {},
   "outputs": [],
   "source": [
    "df =pd.read_csv(\"malicious_phish.csv\")"
   ]
  },
  {
   "cell_type": "code",
   "execution_count": null,
   "id": "db76bd15",
   "metadata": {},
   "outputs": [],
   "source": [
    "df.head()"
   ]
  },
  {
   "cell_type": "code",
   "execution_count": null,
   "id": "df4a6bb9",
   "metadata": {},
   "outputs": [],
   "source": [
    "## Create column for len of url\n",
    "\n",
    "df[\"url_len\"] = df[\"url\"].apply(lambda x: len(x))"
   ]
  },
  {
   "cell_type": "code",
   "execution_count": null,
   "id": "b9f57475",
   "metadata": {},
   "outputs": [],
   "source": [
    "## Create new column separating data buy parts\n",
    "\n",
    "df[\"url_parts\"] = df[\"url\"].apply(lambda x: len(x.split(\".\")))"
   ]
  },
  {
   "cell_type": "code",
   "execution_count": null,
   "id": "5fffa9d0",
   "metadata": {},
   "outputs": [],
   "source": [
    "df.loc[df[\"url_parts\"].max()]"
   ]
  },
  {
   "cell_type": "code",
   "execution_count": null,
   "id": "3675bafb",
   "metadata": {},
   "outputs": [],
   "source": [
    "df[\"url_parts\"].value_counts()"
   ]
  },
  {
   "cell_type": "code",
   "execution_count": null,
   "id": "e12d97e0",
   "metadata": {},
   "outputs": [],
   "source": [
    "df[\"suffix_len\"] = df[\"url\"].apply(lambda x: len(x.split(\".\")[-1]))"
   ]
  },
  {
   "cell_type": "code",
   "execution_count": null,
   "id": "61870a57",
   "metadata": {},
   "outputs": [],
   "source": [
    "df[\"suffix_len\"].value_counts()"
   ]
  },
  {
   "cell_type": "code",
   "execution_count": null,
   "id": "ede03089",
   "metadata": {},
   "outputs": [],
   "source": [
    "df"
   ]
  },
  {
   "cell_type": "code",
   "execution_count": null,
   "id": "3090add4",
   "metadata": {},
   "outputs": [],
   "source": [
    "def query_domain_length(query):\n",
    "    try:\n",
    "        length =  len(query.split('.')[-2])\n",
    "    except:\n",
    "        length = 0\n",
    "    return length\n",
    "\n",
    "df[\"domain_len\"] = df[\"url\"].apply(query_domain_length)"
   ]
  },
  {
   "cell_type": "code",
   "execution_count": null,
   "id": "c5dfa239",
   "metadata": {},
   "outputs": [],
   "source": [
    "df.head()"
   ]
  },
  {
   "cell_type": "code",
   "execution_count": null,
   "id": "2610dfe8",
   "metadata": {},
   "outputs": [],
   "source": [
    "pd.set_option('display.max_colwidth', None)\n",
    "df[\"url\"].loc[df[\"type\"] == \"malware\"]"
   ]
  },
  {
   "cell_type": "code",
   "execution_count": null,
   "id": "17cbf437",
   "metadata": {},
   "outputs": [],
   "source": [
    "\"[0-9]{1,3}\\.[0-9]{1,3}\\.[0-9]{1,3}\\.[0-9]{1,3}\""
   ]
  },
  {
   "cell_type": "code",
   "execution_count": null,
   "id": "a0a561c2",
   "metadata": {},
   "outputs": [],
   "source": [
    "import re\n",
    "\n",
    "def is_ip_address_present(s):\n",
    "    ipv4_pattern = r\"\\b\\d{1,3}\\.\\d{1,3}\\.\\d{1,3}\\.\\d{1,3}\\b\"\n",
    "    ipv6_pattern = r\"\\b([0-9a-fA-F]{1,4}:){7}[0-9a-fA-F]{1,4}\\b\"\n",
    "    ipv4_match = re.search(ipv4_pattern, s)\n",
    "    ipv6_match = re.search(ipv6_pattern, s)\n",
    "    if ipv4_match or ipv6_match:\n",
    "        return 1\n",
    "    else:\n",
    "        return 0\n"
   ]
  },
  {
   "cell_type": "code",
   "execution_count": null,
   "id": "31ddecef",
   "metadata": {},
   "outputs": [],
   "source": [
    "df[\"ip_present\"] = df[\"url\"].apply(is_ip_address_present)"
   ]
  },
  {
   "cell_type": "code",
   "execution_count": null,
   "id": "083e7a12",
   "metadata": {},
   "outputs": [],
   "source": [
    "df[[\"type\",\"url\",\"ip_present\"]].loc[df[\"type\"] == \"malware\"]"
   ]
  },
  {
   "cell_type": "code",
   "execution_count": null,
   "id": "17661121",
   "metadata": {},
   "outputs": [],
   "source": [
    "df.head()"
   ]
  },
  {
   "cell_type": "code",
   "execution_count": null,
   "id": "17959cf6",
   "metadata": {},
   "outputs": [],
   "source": [
    "def has_malicious_file_extension(s):\n",
    "    pattern = r\"(\\.exe|\\.dll|\\.bat|\\.cmd|\\.msi|\\.vbs|\\.ps1|\\.psm1|\\.js|\\.jse|\\.wsh|\\.wsf|\\.hta|\\.scr|\\.pif|\\.cpl|\\.ade|\\.adp|\\.bas|\\.chm|\\.cmd|\\.com|\\.crt|\\.csh|\\.hlp|\\.inf|\\.ins|\\.isp|\\.job|\\.js|\\.jse|\\.lnk|\\.mda|\\.mdb|\\.mde|\\.mdt|\\.mdw|\\.mdz|\\.msc|\\.msi|\\.msp|\\.mst|\\.nws|\\.pcd|\\.prf|\\.reg|\\.scf|\\.shb|\\.shs|\\.tmp|\\.url|\\.vb|\\.vbe|\\.vbs|\\.wsc|\\.wsf|\\.wsh)$\"\n",
    "    match = re.search(pattern, s, re.IGNORECASE)\n",
    "    return 1 if bool(match) else 0"
   ]
  },
  {
   "cell_type": "code",
   "execution_count": null,
   "id": "abb4f6e4",
   "metadata": {},
   "outputs": [],
   "source": [
    "df[\"file_extension\"] = df[\"url\"].apply(has_malicious_file_extension)"
   ]
  },
  {
   "cell_type": "code",
   "execution_count": null,
   "id": "aad038e4",
   "metadata": {},
   "outputs": [],
   "source": [
    "import re\n",
    "\n",
    "def has_shortened_link(url):\n",
    "    shortening_services = [\"bit.ly\", \"t.co\", \"tinyurl.com\", \"ow.ly\", \"goo.gl\", \"is.gd\", \"buff.ly\", \"adcrun.ch\", \"qr.net\", \"adf.ly\", \"bc.vc\", \"ow.ly\", \"po.st\", \"tr.im\", \"v.gd\", \"x.co\", \"tiny.cc\", \"tinyurl.co.uk\", \"tinyurl.de\", \"tinyurl.fr\", \"tinyurl.pl\", \"tinylink.in\", \"tinyuri.ca\", \"tinyurl.dk\", \"url.ie\", \"zi.pe\"]\n",
    "    for service in shortening_services:\n",
    "        pattern = fr\"\\b{service}\\b\"\n",
    "        if re.search(pattern, url, re.IGNORECASE):\n",
    "            return 1\n",
    "    return 0\n",
    "\n",
    "df[\"shorted_link\"] = df[\"url\"].apply(has_shortened_link)"
   ]
  },
  {
   "cell_type": "code",
   "execution_count": null,
   "id": "26141a57",
   "metadata": {},
   "outputs": [],
   "source": [
    "df[\"shorted_link\"].value_counts()"
   ]
  },
  {
   "cell_type": "code",
   "execution_count": null,
   "id": "6fa4238e",
   "metadata": {},
   "outputs": [],
   "source": [
    "df[\"count_percents\"] = df[\"url\"].apply(lambda x: x.count(\"%\"))"
   ]
  },
  {
   "cell_type": "code",
   "execution_count": null,
   "id": "18073558",
   "metadata": {},
   "outputs": [],
   "source": [
    "df[\"count_equals\"] = df[\"url\"].apply(lambda x: x.count(\"=\"))\n",
    "df[\"count_ats\"] = df[\"url\"].apply(lambda x: x.count(\"@\"))"
   ]
  },
  {
   "cell_type": "code",
   "execution_count": null,
   "id": "6dc0cdb9",
   "metadata": {},
   "outputs": [],
   "source": [
    "for value in df[\"type\"].unique():\n",
    "    print(f'{value} --------------------------------------------------------------------------')\n",
    "    print(df[\"url\"].loc[df[\"type\"] == value][:10])\n",
    "    print(\"\\n\"*2)"
   ]
  },
  {
   "cell_type": "markdown",
   "id": "75952f50",
   "metadata": {},
   "source": [
    "## EDA"
   ]
  },
  {
   "cell_type": "code",
   "execution_count": null,
   "id": "a70624fd",
   "metadata": {},
   "outputs": [],
   "source": [
    "import matplotlib.pyplot as plt\n",
    "import seaborn as sns"
   ]
  },
  {
   "cell_type": "code",
   "execution_count": null,
   "id": "89f027a7",
   "metadata": {},
   "outputs": [],
   "source": [
    "df.head()"
   ]
  },
  {
   "cell_type": "code",
   "execution_count": null,
   "id": "0207a05f",
   "metadata": {},
   "outputs": [],
   "source": []
  },
  {
   "cell_type": "code",
   "execution_count": null,
   "id": "2a06e1ac",
   "metadata": {},
   "outputs": [],
   "source": [
    "pd.set_option('display.max_rows', None)\n",
    "df.groupby(\"type\").describe().transpose()"
   ]
  },
  {
   "cell_type": "code",
   "execution_count": null,
   "id": "fa84129a",
   "metadata": {},
   "outputs": [],
   "source": [
    "pd.reset_option(\"all\")"
   ]
  },
  {
   "cell_type": "code",
   "execution_count": null,
   "id": "a3c9efba",
   "metadata": {},
   "outputs": [],
   "source": [
    "np.vectorize(has_shortened_link)"
   ]
  },
  {
   "cell_type": "code",
   "execution_count": null,
   "id": "2b61161a",
   "metadata": {},
   "outputs": [],
   "source": [
    "new_df = pd.read_csv(\"malicious_phish.csv\")"
   ]
  },
  {
   "cell_type": "code",
   "execution_count": null,
   "id": "64af4150",
   "metadata": {},
   "outputs": [],
   "source": [
    "new_df[\"shorted_link\"] = np.vectorize(has_shortened_link)(new_df[\"url\"])"
   ]
  },
  {
   "cell_type": "code",
   "execution_count": null,
   "id": "64c495e5",
   "metadata": {},
   "outputs": [],
   "source": [
    "new_df"
   ]
  },
  {
   "cell_type": "code",
   "execution_count": null,
   "id": "32925af3",
   "metadata": {},
   "outputs": [],
   "source": [
    "!pip install pycaret pandas shap"
   ]
  },
  {
   "cell_type": "code",
   "execution_count": null,
   "id": "1595a5d0",
   "metadata": {},
   "outputs": [],
   "source": [
    "from pycaret.classification import *"
   ]
  },
  {
   "cell_type": "code",
   "execution_count": null,
   "id": "1170fb54",
   "metadata": {},
   "outputs": [],
   "source": [
    "reg1 = setup(data = new_df, target=\"type\")"
   ]
  },
  {
   "cell_type": "code",
   "execution_count": null,
   "id": "eb088b32",
   "metadata": {},
   "outputs": [],
   "source": [
    "reg1."
   ]
  },
  {
   "cell_type": "code",
   "execution_count": null,
   "id": "0ff6cb4f",
   "metadata": {},
   "outputs": [],
   "source": [
    "compare_models()"
   ]
  },
  {
   "cell_type": "code",
   "execution_count": null,
   "id": "1415d841",
   "metadata": {
    "scrolled": true
   },
   "outputs": [],
   "source": [
    "sns.countplot(df[\"type\"])"
   ]
  },
  {
   "cell_type": "code",
   "execution_count": null,
   "id": "7db02030",
   "metadata": {},
   "outputs": [],
   "source": [
    "df.columns"
   ]
  },
  {
   "cell_type": "code",
   "execution_count": null,
   "id": "eec3094b",
   "metadata": {},
   "outputs": [],
   "source": [
    "df_sample = df.sample(1000)"
   ]
  },
  {
   "cell_type": "code",
   "execution_count": null,
   "id": "eed70155",
   "metadata": {},
   "outputs": [],
   "source": [
    "sns.scatterplot(x=\"url_len\",y=\"url_parts\",data=df_sample,hue=\"type\")"
   ]
  },
  {
   "cell_type": "code",
   "execution_count": null,
   "id": "b0b83696",
   "metadata": {},
   "outputs": [],
   "source": [
    "sns.scatterplot(x=\"suffix_len\",y=\"domain_len\",data=df_sample,hue=\"type\",alpha=.3)"
   ]
  },
  {
   "cell_type": "code",
   "execution_count": null,
   "id": "ae7533e2",
   "metadata": {},
   "outputs": [],
   "source": [
    "sns.pairplot(df_sample,hue=\"type\")"
   ]
  },
  {
   "cell_type": "code",
   "execution_count": null,
   "id": "4cbddaa9",
   "metadata": {},
   "outputs": [],
   "source": [
    "df_sample = df.sample(500)"
   ]
  },
  {
   "cell_type": "code",
   "execution_count": null,
   "id": "ba570b04",
   "metadata": {},
   "outputs": [],
   "source": [
    "sns.heatmap(df_sample.corr(),annot=True)"
   ]
  },
  {
   "cell_type": "markdown",
   "id": "f91ca3d7",
   "metadata": {},
   "source": [
    "## Train | Test Split"
   ]
  },
  {
   "cell_type": "code",
   "execution_count": null,
   "id": "5e2c3b71",
   "metadata": {},
   "outputs": [],
   "source": [
    "from sklearn.model_selection import train_test_split\n",
    "from sklearn.preprocessing import StandardScaler"
   ]
  },
  {
   "cell_type": "code",
   "execution_count": null,
   "id": "f31adb57",
   "metadata": {},
   "outputs": [],
   "source": [
    "df = df.drop(\"url\",axis=1)"
   ]
  },
  {
   "cell_type": "code",
   "execution_count": null,
   "id": "25b2c817",
   "metadata": {},
   "outputs": [],
   "source": [
    "X = df.drop(\"type\",axis=1)\n",
    "y = df[\"type\"]"
   ]
  },
  {
   "cell_type": "code",
   "execution_count": null,
   "id": "57c986e2",
   "metadata": {},
   "outputs": [],
   "source": [
    "X_train, X_test, y_train, y_test = train_test_split(X, y, test_size=0.3, random_state=101)"
   ]
  },
  {
   "cell_type": "code",
   "execution_count": null,
   "id": "07c62c86",
   "metadata": {},
   "outputs": [],
   "source": [
    "scaler = StandardScaler()"
   ]
  },
  {
   "cell_type": "code",
   "execution_count": null,
   "id": "7f3c47af",
   "metadata": {},
   "outputs": [],
   "source": [
    "scaled_X_train = scaler.fit_transform(X_train)\n",
    "scaled_X_test = scaler.transform(X_test)"
   ]
  },
  {
   "cell_type": "code",
   "execution_count": null,
   "id": "6ce60905",
   "metadata": {},
   "outputs": [],
   "source": [
    "from sklearn.linear_model import LogisticRegression"
   ]
  },
  {
   "cell_type": "code",
   "execution_count": null,
   "id": "c4af7932",
   "metadata": {},
   "outputs": [],
   "source": [
    "from sklearn.model_selection import GridSearchCV"
   ]
  },
  {
   "cell_type": "code",
   "execution_count": null,
   "id": "3f01ee6d",
   "metadata": {},
   "outputs": [],
   "source": [
    "log_model = LogisticRegression(solver='saga',multi_class=\"ovr\",max_iter=50)"
   ]
  },
  {
   "cell_type": "code",
   "execution_count": null,
   "id": "a51b2c31",
   "metadata": {},
   "outputs": [],
   "source": [
    "# Penalty Type\n",
    "penalty = ['l1', 'l2']\n",
    "\n",
    "# Use logarithmically spaced C values (recommended in official docs)\n",
    "C = np.logspace(0, 4, 10)"
   ]
  },
  {
   "cell_type": "code",
   "execution_count": null,
   "id": "bcf4aae6",
   "metadata": {},
   "outputs": [],
   "source": [
    "log_model.fit(scaled_X_train,y_train)"
   ]
  },
  {
   "cell_type": "code",
   "execution_count": null,
   "id": "1c911491",
   "metadata": {},
   "outputs": [],
   "source": [
    "from sklearn.metrics import accuracy_score,confusion_matrix,classification_report,plot_confusion_matrix"
   ]
  },
  {
   "cell_type": "code",
   "execution_count": null,
   "id": "27b8fa2c",
   "metadata": {},
   "outputs": [],
   "source": [
    "y_pred = log_model.predict(scaled_X_test)"
   ]
  },
  {
   "cell_type": "code",
   "execution_count": null,
   "id": "da3c4b48",
   "metadata": {},
   "outputs": [],
   "source": [
    "accuracy_score(y_test,y_pred)"
   ]
  },
  {
   "cell_type": "code",
   "execution_count": null,
   "id": "64def631",
   "metadata": {},
   "outputs": [],
   "source": [
    "confusion_matrix(y_test,y_pred)"
   ]
  },
  {
   "cell_type": "code",
   "execution_count": null,
   "id": "c62f35d2",
   "metadata": {},
   "outputs": [],
   "source": [
    "plot_confusion_matrix(log_model,scaled_X_test,y_test)"
   ]
  },
  {
   "cell_type": "code",
   "execution_count": null,
   "id": "b331b35e",
   "metadata": {},
   "outputs": [],
   "source": [
    "log_model"
   ]
  },
  {
   "cell_type": "code",
   "execution_count": null,
   "id": "da80ad71",
   "metadata": {},
   "outputs": [],
   "source": [
    "from sklearn.ensemble import RandomForestClassifier"
   ]
  },
  {
   "cell_type": "code",
   "execution_count": null,
   "id": "21e1ab25",
   "metadata": {},
   "outputs": [],
   "source": [
    "model = RandomForestClassifier(n_estimators=10,max_features='auto',random_state=101)"
   ]
  },
  {
   "cell_type": "code",
   "execution_count": null,
   "id": "fec74a1f",
   "metadata": {},
   "outputs": [],
   "source": [
    "model.fit(scaled_X_train,y_train)"
   ]
  },
  {
   "cell_type": "code",
   "execution_count": null,
   "id": "b4a030b5",
   "metadata": {},
   "outputs": [],
   "source": [
    "preds = model.predict(X_test)"
   ]
  },
  {
   "cell_type": "code",
   "execution_count": null,
   "id": "3d2fc3e5",
   "metadata": {},
   "outputs": [],
   "source": [
    "confusion_matrix(y_test,preds)"
   ]
  },
  {
   "cell_type": "code",
   "execution_count": null,
   "id": "c5ee52e9",
   "metadata": {},
   "outputs": [],
   "source": [
    "plot_confusion_matrix(model,X_test,y_test)"
   ]
  },
  {
   "cell_type": "code",
   "execution_count": null,
   "id": "e7fad2af",
   "metadata": {},
   "outputs": [],
   "source": [
    "model.feature_importances_"
   ]
  },
  {
   "cell_type": "code",
   "execution_count": null,
   "id": "502eed55",
   "metadata": {},
   "outputs": [],
   "source": [
    "print(classification_report(y_test,preds))"
   ]
  },
  {
   "cell_type": "code",
   "execution_count": null,
   "id": "5006469c",
   "metadata": {},
   "outputs": [],
   "source": []
  }
 ],
 "metadata": {
  "kernelspec": {
   "display_name": "Python 3 (ipykernel)",
   "language": "python",
   "name": "python3"
  },
  "language_info": {
   "codemirror_mode": {
    "name": "ipython",
    "version": 3
   },
   "file_extension": ".py",
   "mimetype": "text/x-python",
   "name": "python",
   "nbconvert_exporter": "python",
   "pygments_lexer": "ipython3",
   "version": "3.9.13"
  }
 },
 "nbformat": 4,
 "nbformat_minor": 5
}
