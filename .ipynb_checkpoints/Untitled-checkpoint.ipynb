{
 "cells": [
  {
   "cell_type": "markdown",
   "id": "aa7e2cbc",
   "metadata": {},
   "source": [
    "## Data Preprocessing and Feature Engineering"
   ]
  },
  {
   "cell_type": "code",
   "execution_count": 4,
   "id": "32881313",
   "metadata": {},
   "outputs": [],
   "source": [
    "import pandas as pd\n",
    "import numpy as np\n",
    "import re"
   ]
  },
  {
   "cell_type": "code",
   "execution_count": 5,
   "id": "648420ae",
   "metadata": {},
   "outputs": [],
   "source": [
    "df =pd.read_csv(\"malicious_phish.csv\")"
   ]
  },
  {
   "cell_type": "markdown",
   "id": "6ca81e82",
   "metadata": {},
   "source": [
    "The Dataset has two columns one for the url and type, In order to make this dataset use for a classification , additional features will need to be added, the following lines of code are feature engineering"
   ]
  },
  {
   "cell_type": "code",
   "execution_count": 15,
   "id": "db76bd15",
   "metadata": {},
   "outputs": [
    {
     "data": {
      "text/html": [
       "<div>\n",
       "<style scoped>\n",
       "    .dataframe tbody tr th:only-of-type {\n",
       "        vertical-align: middle;\n",
       "    }\n",
       "\n",
       "    .dataframe tbody tr th {\n",
       "        vertical-align: top;\n",
       "    }\n",
       "\n",
       "    .dataframe thead th {\n",
       "        text-align: right;\n",
       "    }\n",
       "</style>\n",
       "<table border=\"1\" class=\"dataframe\">\n",
       "  <thead>\n",
       "    <tr style=\"text-align: right;\">\n",
       "      <th></th>\n",
       "      <th>url</th>\n",
       "      <th>type</th>\n",
       "      <th>url_len</th>\n",
       "      <th>url_parts</th>\n",
       "      <th>suffix_len</th>\n",
       "      <th>domain_len</th>\n",
       "      <th>ip_present</th>\n",
       "    </tr>\n",
       "  </thead>\n",
       "  <tbody>\n",
       "    <tr>\n",
       "      <th>0</th>\n",
       "      <td>br-icloud.com.br</td>\n",
       "      <td>phishing</td>\n",
       "      <td>16</td>\n",
       "      <td>3</td>\n",
       "      <td>2</td>\n",
       "      <td>3</td>\n",
       "      <td>0</td>\n",
       "    </tr>\n",
       "    <tr>\n",
       "      <th>1</th>\n",
       "      <td>mp3raid.com/music/krizz_kaliko.html</td>\n",
       "      <td>benign</td>\n",
       "      <td>35</td>\n",
       "      <td>3</td>\n",
       "      <td>4</td>\n",
       "      <td>22</td>\n",
       "      <td>0</td>\n",
       "    </tr>\n",
       "    <tr>\n",
       "      <th>2</th>\n",
       "      <td>bopsecrets.org/rexroth/cr/1.htm</td>\n",
       "      <td>benign</td>\n",
       "      <td>31</td>\n",
       "      <td>3</td>\n",
       "      <td>3</td>\n",
       "      <td>16</td>\n",
       "      <td>0</td>\n",
       "    </tr>\n",
       "    <tr>\n",
       "      <th>3</th>\n",
       "      <td>http://www.garage-pirenne.be/index.php?option=...</td>\n",
       "      <td>defacement</td>\n",
       "      <td>88</td>\n",
       "      <td>4</td>\n",
       "      <td>53</td>\n",
       "      <td>8</td>\n",
       "      <td>0</td>\n",
       "    </tr>\n",
       "    <tr>\n",
       "      <th>4</th>\n",
       "      <td>http://adventure-nicaragua.net/index.php?optio...</td>\n",
       "      <td>defacement</td>\n",
       "      <td>235</td>\n",
       "      <td>3</td>\n",
       "      <td>198</td>\n",
       "      <td>9</td>\n",
       "      <td>0</td>\n",
       "    </tr>\n",
       "  </tbody>\n",
       "</table>\n",
       "</div>"
      ],
      "text/plain": [
       "                                                 url        type  url_len  \\\n",
       "0                                   br-icloud.com.br    phishing       16   \n",
       "1                mp3raid.com/music/krizz_kaliko.html      benign       35   \n",
       "2                    bopsecrets.org/rexroth/cr/1.htm      benign       31   \n",
       "3  http://www.garage-pirenne.be/index.php?option=...  defacement       88   \n",
       "4  http://adventure-nicaragua.net/index.php?optio...  defacement      235   \n",
       "\n",
       "   url_parts  suffix_len  domain_len  ip_present  \n",
       "0          3           2           3           0  \n",
       "1          3           4          22           0  \n",
       "2          3           3          16           0  \n",
       "3          4          53           8           0  \n",
       "4          3         198           9           0  "
      ]
     },
     "execution_count": 15,
     "metadata": {},
     "output_type": "execute_result"
    }
   ],
   "source": [
    "df.head()"
   ]
  },
  {
   "cell_type": "code",
   "execution_count": 7,
   "id": "df4a6bb9",
   "metadata": {},
   "outputs": [],
   "source": [
    "## Create column for len of url\n",
    "\n",
    "df[\"url_len\"] = df[\"url\"].apply(lambda x: len(x))"
   ]
  },
  {
   "cell_type": "code",
   "execution_count": 8,
   "id": "b9f57475",
   "metadata": {},
   "outputs": [],
   "source": [
    "## Create new column separating data buy parts\n",
    "\n",
    "df[\"url_parts\"] = df[\"url\"].apply(lambda x: len(x.split(\".\")))"
   ]
  },
  {
   "cell_type": "code",
   "execution_count": 9,
   "id": "e12d97e0",
   "metadata": {},
   "outputs": [],
   "source": [
    "## Create new column, gathering suffix len\n",
    "df[\"suffix_len\"] = df[\"url\"].apply(lambda x: len(x.split(\".\")[-1]))"
   ]
  },
  {
   "cell_type": "code",
   "execution_count": 10,
   "id": "3090add4",
   "metadata": {},
   "outputs": [],
   "source": [
    "## Add column for query length\n",
    "def query_domain_length(query):\n",
    "    try:\n",
    "        length =  len(query.split('.')[-2])\n",
    "    except:\n",
    "        length = 0\n",
    "    return length\n",
    "\n",
    "df[\"domain_len\"] = df[\"url\"].apply(query_domain_length)"
   ]
  },
  {
   "cell_type": "code",
   "execution_count": 16,
   "id": "a0a561c2",
   "metadata": {},
   "outputs": [],
   "source": [
    "#Using a regular expression to identify if there is any IPv4 or IPv6 address within the dataset, if so return a 1, if not \n",
    "# return a 0 and create a column\n",
    "\n",
    "def is_ip_address_present(s):\n",
    "    ipv4_pattern = r\"\\b\\d{1,3}\\.\\d{1,3}\\.\\d{1,3}\\.\\d{1,3}\\b\"\n",
    "    ipv6_pattern = r\"\\b([0-9a-fA-F]{1,4}:){7}[0-9a-fA-F]{1,4}\\b\"\n",
    "    ipv4_match = re.search(ipv4_pattern, s)\n",
    "    ipv6_match = re.search(ipv6_pattern, s)\n",
    "    if ipv4_match or ipv6_match:\n",
    "        return 1\n",
    "    else:\n",
    "        return 0\n",
    "    \n",
    "\n",
    "df[\"ip_present\"] = df[\"url\"].apply(is_ip_address_present)\n"
   ]
  },
  {
   "cell_type": "code",
   "execution_count": 21,
   "id": "17959cf6",
   "metadata": {},
   "outputs": [],
   "source": [
    "## Create a new column and identify if the file ends in the following extensions\n",
    "\n",
    "def has_malicious_file_extension(s):\n",
    "    pattern = r\"(\\.exe|\\.dll|\\.bat|\\.cmd|\\.msi|\\.vbs|\\.ps1|\\.psm1|\\.js|\\.jse|\\.wsh|\\.wsf|\\.hta|\\.scr|\\.pif|\\.cpl|\\.ade|\\.adp|\\.bas|\\.chm|\\.cmd|\\.com|\\.crt|\\.csh|\\.hlp|\\.inf|\\.ins|\\.isp|\\.job|\\.js|\\.jse|\\.lnk|\\.mda|\\.mdb|\\.mde|\\.mdt|\\.mdw|\\.mdz|\\.msc|\\.msi|\\.msp|\\.mst|\\.nws|\\.pcd|\\.prf|\\.reg|\\.scf|\\.shb|\\.shs|\\.tmp|\\.url|\\.vb|\\.vbe|\\.vbs|\\.wsc|\\.wsf|\\.wsh)$\"\n",
    "    match = re.search(pattern, s, re.IGNORECASE)\n",
    "    return 1 if bool(match) else 0\n",
    "\n",
    "df[\"file_extension\"] = df[\"url\"].apply(has_malicious_file_extension)"
   ]
  },
  {
   "cell_type": "code",
   "execution_count": 22,
   "id": "aad038e4",
   "metadata": {},
   "outputs": [],
   "source": [
    "## Identify if any shortened URL are present in the dataset\n",
    "\n",
    "def has_shortened_link(url):\n",
    "    shortening_services = [\"bit.ly\", \"t.co\", \"tinyurl.com\", \"ow.ly\", \"goo.gl\", \"is.gd\", \"buff.ly\", \"adcrun.ch\", \"qr.net\", \"adf.ly\", \"bc.vc\", \"ow.ly\", \"po.st\", \"tr.im\", \"v.gd\", \"x.co\", \"tiny.cc\", \"tinyurl.co.uk\", \"tinyurl.de\", \"tinyurl.fr\", \"tinyurl.pl\", \"tinylink.in\", \"tinyuri.ca\", \"tinyurl.dk\", \"url.ie\", \"zi.pe\"]\n",
    "    for service in shortening_services:\n",
    "        pattern = fr\"\\b{service}\\b\"\n",
    "        if re.search(pattern, url, re.IGNORECASE):\n",
    "            return 1\n",
    "    return 0\n",
    "\n",
    "df[\"shorted_link\"] = df[\"url\"].apply(has_shortened_link)"
   ]
  },
  {
   "cell_type": "code",
   "execution_count": 23,
   "id": "26141a57",
   "metadata": {},
   "outputs": [
    {
     "data": {
      "text/plain": [
       "0    650623\n",
       "1       568\n",
       "Name: shorted_link, dtype: int64"
      ]
     },
     "execution_count": 23,
     "metadata": {},
     "output_type": "execute_result"
    }
   ],
   "source": [
    "df[\"shorted_link\"].value_counts()"
   ]
  },
  {
   "cell_type": "code",
   "execution_count": 24,
   "id": "6fa4238e",
   "metadata": {},
   "outputs": [],
   "source": [
    "##Create a column for the count of each one of the special characters present within the url\n",
    "\n",
    "special_char = [\"%\",\"=\",\"/\", \"?\",\":\",\"+\",\"@\",\"&\",\"#\",\"<\",\">\",\"^\"]\n",
    "\n",
    "for special in special_char:\n",
    "    df[f'{special}_count'] = df[\"url\"].apply(lambda x: x.count(special))"
   ]
  },
  {
   "cell_type": "code",
   "execution_count": 31,
   "id": "1fb201a2",
   "metadata": {},
   "outputs": [],
   "source": [
    "##Quick test of the value counts to see new columns and breakdown\n",
    "for special in special_char:\n",
    "    df[f'{special}_count'].value_counts()[:5]"
   ]
  },
  {
   "cell_type": "code",
   "execution_count": 35,
   "id": "57032544",
   "metadata": {
    "scrolled": true
   },
   "outputs": [
    {
     "name": "stdout",
     "output_type": "stream",
     "text": [
      "<class 'pandas.core.frame.DataFrame'>\n",
      "RangeIndex: 651191 entries, 0 to 651190\n",
      "Data columns (total 21 columns):\n",
      " #   Column          Non-Null Count   Dtype \n",
      "---  ------          --------------   ----- \n",
      " 0   url             651191 non-null  object\n",
      " 1   type            651191 non-null  object\n",
      " 2   url_len         651191 non-null  int64 \n",
      " 3   url_parts       651191 non-null  int64 \n",
      " 4   suffix_len      651191 non-null  int64 \n",
      " 5   domain_len      651191 non-null  int64 \n",
      " 6   ip_present      651191 non-null  int64 \n",
      " 7   file_extension  651191 non-null  int64 \n",
      " 8   shorted_link    651191 non-null  int64 \n",
      " 9   %_count         651191 non-null  int64 \n",
      " 10  =_count         651191 non-null  int64 \n",
      " 11  /_count         651191 non-null  int64 \n",
      " 12  ?_count         651191 non-null  int64 \n",
      " 13  :_count         651191 non-null  int64 \n",
      " 14  +_count         651191 non-null  int64 \n",
      " 15  @_count         651191 non-null  int64 \n",
      " 16  &_count         651191 non-null  int64 \n",
      " 17  #_count         651191 non-null  int64 \n",
      " 18  <_count         651191 non-null  int64 \n",
      " 19  >_count         651191 non-null  int64 \n",
      " 20  ^_count         651191 non-null  int64 \n",
      "dtypes: int64(19), object(2)\n",
      "memory usage: 104.3+ MB\n"
     ]
    }
   ],
   "source": [
    "#quick look at the updated dataset info\n",
    "df.info()"
   ]
  },
  {
   "cell_type": "code",
   "execution_count": 36,
   "id": "ec91fc54",
   "metadata": {},
   "outputs": [
    {
     "data": {
      "text/html": [
       "<div>\n",
       "<style scoped>\n",
       "    .dataframe tbody tr th:only-of-type {\n",
       "        vertical-align: middle;\n",
       "    }\n",
       "\n",
       "    .dataframe tbody tr th {\n",
       "        vertical-align: top;\n",
       "    }\n",
       "\n",
       "    .dataframe thead th {\n",
       "        text-align: right;\n",
       "    }\n",
       "</style>\n",
       "<table border=\"1\" class=\"dataframe\">\n",
       "  <thead>\n",
       "    <tr style=\"text-align: right;\">\n",
       "      <th></th>\n",
       "      <th>url</th>\n",
       "      <th>type</th>\n",
       "      <th>url_len</th>\n",
       "      <th>url_parts</th>\n",
       "      <th>suffix_len</th>\n",
       "      <th>domain_len</th>\n",
       "      <th>ip_present</th>\n",
       "      <th>file_extension</th>\n",
       "      <th>shorted_link</th>\n",
       "      <th>%_count</th>\n",
       "      <th>...</th>\n",
       "      <th>/_count</th>\n",
       "      <th>?_count</th>\n",
       "      <th>:_count</th>\n",
       "      <th>+_count</th>\n",
       "      <th>@_count</th>\n",
       "      <th>&amp;_count</th>\n",
       "      <th>#_count</th>\n",
       "      <th>&lt;_count</th>\n",
       "      <th>&gt;_count</th>\n",
       "      <th>^_count</th>\n",
       "    </tr>\n",
       "  </thead>\n",
       "  <tbody>\n",
       "    <tr>\n",
       "      <th>0</th>\n",
       "      <td>br-icloud.com.br</td>\n",
       "      <td>phishing</td>\n",
       "      <td>16</td>\n",
       "      <td>3</td>\n",
       "      <td>2</td>\n",
       "      <td>3</td>\n",
       "      <td>0</td>\n",
       "      <td>0</td>\n",
       "      <td>0</td>\n",
       "      <td>0</td>\n",
       "      <td>...</td>\n",
       "      <td>0</td>\n",
       "      <td>0</td>\n",
       "      <td>0</td>\n",
       "      <td>0</td>\n",
       "      <td>0</td>\n",
       "      <td>0</td>\n",
       "      <td>0</td>\n",
       "      <td>0</td>\n",
       "      <td>0</td>\n",
       "      <td>0</td>\n",
       "    </tr>\n",
       "    <tr>\n",
       "      <th>1</th>\n",
       "      <td>mp3raid.com/music/krizz_kaliko.html</td>\n",
       "      <td>benign</td>\n",
       "      <td>35</td>\n",
       "      <td>3</td>\n",
       "      <td>4</td>\n",
       "      <td>22</td>\n",
       "      <td>0</td>\n",
       "      <td>0</td>\n",
       "      <td>0</td>\n",
       "      <td>0</td>\n",
       "      <td>...</td>\n",
       "      <td>2</td>\n",
       "      <td>0</td>\n",
       "      <td>0</td>\n",
       "      <td>0</td>\n",
       "      <td>0</td>\n",
       "      <td>0</td>\n",
       "      <td>0</td>\n",
       "      <td>0</td>\n",
       "      <td>0</td>\n",
       "      <td>0</td>\n",
       "    </tr>\n",
       "    <tr>\n",
       "      <th>2</th>\n",
       "      <td>bopsecrets.org/rexroth/cr/1.htm</td>\n",
       "      <td>benign</td>\n",
       "      <td>31</td>\n",
       "      <td>3</td>\n",
       "      <td>3</td>\n",
       "      <td>16</td>\n",
       "      <td>0</td>\n",
       "      <td>0</td>\n",
       "      <td>0</td>\n",
       "      <td>0</td>\n",
       "      <td>...</td>\n",
       "      <td>3</td>\n",
       "      <td>0</td>\n",
       "      <td>0</td>\n",
       "      <td>0</td>\n",
       "      <td>0</td>\n",
       "      <td>0</td>\n",
       "      <td>0</td>\n",
       "      <td>0</td>\n",
       "      <td>0</td>\n",
       "      <td>0</td>\n",
       "    </tr>\n",
       "    <tr>\n",
       "      <th>3</th>\n",
       "      <td>http://www.garage-pirenne.be/index.php?option=...</td>\n",
       "      <td>defacement</td>\n",
       "      <td>88</td>\n",
       "      <td>4</td>\n",
       "      <td>53</td>\n",
       "      <td>8</td>\n",
       "      <td>0</td>\n",
       "      <td>0</td>\n",
       "      <td>0</td>\n",
       "      <td>0</td>\n",
       "      <td>...</td>\n",
       "      <td>3</td>\n",
       "      <td>1</td>\n",
       "      <td>1</td>\n",
       "      <td>0</td>\n",
       "      <td>0</td>\n",
       "      <td>3</td>\n",
       "      <td>0</td>\n",
       "      <td>0</td>\n",
       "      <td>0</td>\n",
       "      <td>0</td>\n",
       "    </tr>\n",
       "    <tr>\n",
       "      <th>4</th>\n",
       "      <td>http://adventure-nicaragua.net/index.php?optio...</td>\n",
       "      <td>defacement</td>\n",
       "      <td>235</td>\n",
       "      <td>3</td>\n",
       "      <td>198</td>\n",
       "      <td>9</td>\n",
       "      <td>0</td>\n",
       "      <td>0</td>\n",
       "      <td>0</td>\n",
       "      <td>0</td>\n",
       "      <td>...</td>\n",
       "      <td>3</td>\n",
       "      <td>1</td>\n",
       "      <td>1</td>\n",
       "      <td>0</td>\n",
       "      <td>0</td>\n",
       "      <td>2</td>\n",
       "      <td>0</td>\n",
       "      <td>0</td>\n",
       "      <td>0</td>\n",
       "      <td>0</td>\n",
       "    </tr>\n",
       "  </tbody>\n",
       "</table>\n",
       "<p>5 rows × 21 columns</p>\n",
       "</div>"
      ],
      "text/plain": [
       "                                                 url        type  url_len  \\\n",
       "0                                   br-icloud.com.br    phishing       16   \n",
       "1                mp3raid.com/music/krizz_kaliko.html      benign       35   \n",
       "2                    bopsecrets.org/rexroth/cr/1.htm      benign       31   \n",
       "3  http://www.garage-pirenne.be/index.php?option=...  defacement       88   \n",
       "4  http://adventure-nicaragua.net/index.php?optio...  defacement      235   \n",
       "\n",
       "   url_parts  suffix_len  domain_len  ip_present  file_extension  \\\n",
       "0          3           2           3           0               0   \n",
       "1          3           4          22           0               0   \n",
       "2          3           3          16           0               0   \n",
       "3          4          53           8           0               0   \n",
       "4          3         198           9           0               0   \n",
       "\n",
       "   shorted_link  %_count  ...  /_count  ?_count  :_count  +_count  @_count  \\\n",
       "0             0        0  ...        0        0        0        0        0   \n",
       "1             0        0  ...        2        0        0        0        0   \n",
       "2             0        0  ...        3        0        0        0        0   \n",
       "3             0        0  ...        3        1        1        0        0   \n",
       "4             0        0  ...        3        1        1        0        0   \n",
       "\n",
       "   &_count  #_count  <_count  >_count  ^_count  \n",
       "0        0        0        0        0        0  \n",
       "1        0        0        0        0        0  \n",
       "2        0        0        0        0        0  \n",
       "3        3        0        0        0        0  \n",
       "4        2        0        0        0        0  \n",
       "\n",
       "[5 rows x 21 columns]"
      ]
     },
     "execution_count": 36,
     "metadata": {},
     "output_type": "execute_result"
    }
   ],
   "source": [
    "#new head of dataframe\n",
    "df.head()"
   ]
  },
  {
   "cell_type": "markdown",
   "id": "75952f50",
   "metadata": {},
   "source": [
    "## Exploratory Data Analysis (EDA)"
   ]
  },
  {
   "cell_type": "code",
   "execution_count": 37,
   "id": "a70624fd",
   "metadata": {},
   "outputs": [],
   "source": [
    "import matplotlib.pyplot as plt\n",
    "import seaborn as sns"
   ]
  },
  {
   "cell_type": "code",
   "execution_count": 38,
   "id": "89f027a7",
   "metadata": {},
   "outputs": [
    {
     "data": {
      "text/html": [
       "<div>\n",
       "<style scoped>\n",
       "    .dataframe tbody tr th:only-of-type {\n",
       "        vertical-align: middle;\n",
       "    }\n",
       "\n",
       "    .dataframe tbody tr th {\n",
       "        vertical-align: top;\n",
       "    }\n",
       "\n",
       "    .dataframe thead th {\n",
       "        text-align: right;\n",
       "    }\n",
       "</style>\n",
       "<table border=\"1\" class=\"dataframe\">\n",
       "  <thead>\n",
       "    <tr style=\"text-align: right;\">\n",
       "      <th></th>\n",
       "      <th>count</th>\n",
       "      <th>mean</th>\n",
       "      <th>std</th>\n",
       "      <th>min</th>\n",
       "      <th>25%</th>\n",
       "      <th>50%</th>\n",
       "      <th>75%</th>\n",
       "      <th>max</th>\n",
       "    </tr>\n",
       "  </thead>\n",
       "  <tbody>\n",
       "    <tr>\n",
       "      <th>url_len</th>\n",
       "      <td>651191.0</td>\n",
       "      <td>60.156831</td>\n",
       "      <td>44.753902</td>\n",
       "      <td>1.0</td>\n",
       "      <td>32.0</td>\n",
       "      <td>47.0</td>\n",
       "      <td>77.0</td>\n",
       "      <td>2175.0</td>\n",
       "    </tr>\n",
       "    <tr>\n",
       "      <th>url_parts</th>\n",
       "      <td>651191.0</td>\n",
       "      <td>3.195453</td>\n",
       "      <td>1.490732</td>\n",
       "      <td>1.0</td>\n",
       "      <td>2.0</td>\n",
       "      <td>3.0</td>\n",
       "      <td>4.0</td>\n",
       "      <td>43.0</td>\n",
       "    </tr>\n",
       "    <tr>\n",
       "      <th>suffix_len</th>\n",
       "      <td>651191.0</td>\n",
       "      <td>28.727095</td>\n",
       "      <td>36.893846</td>\n",
       "      <td>0.0</td>\n",
       "      <td>4.0</td>\n",
       "      <td>16.0</td>\n",
       "      <td>41.0</td>\n",
       "      <td>1589.0</td>\n",
       "    </tr>\n",
       "    <tr>\n",
       "      <th>domain_len</th>\n",
       "      <td>651191.0</td>\n",
       "      <td>17.293960</td>\n",
       "      <td>18.012462</td>\n",
       "      <td>0.0</td>\n",
       "      <td>8.0</td>\n",
       "      <td>11.0</td>\n",
       "      <td>20.0</td>\n",
       "      <td>1007.0</td>\n",
       "    </tr>\n",
       "    <tr>\n",
       "      <th>ip_present</th>\n",
       "      <td>651191.0</td>\n",
       "      <td>0.018993</td>\n",
       "      <td>0.136500</td>\n",
       "      <td>0.0</td>\n",
       "      <td>0.0</td>\n",
       "      <td>0.0</td>\n",
       "      <td>0.0</td>\n",
       "      <td>1.0</td>\n",
       "    </tr>\n",
       "    <tr>\n",
       "      <th>file_extension</th>\n",
       "      <td>651191.0</td>\n",
       "      <td>0.029355</td>\n",
       "      <td>0.168801</td>\n",
       "      <td>0.0</td>\n",
       "      <td>0.0</td>\n",
       "      <td>0.0</td>\n",
       "      <td>0.0</td>\n",
       "      <td>1.0</td>\n",
       "    </tr>\n",
       "    <tr>\n",
       "      <th>shorted_link</th>\n",
       "      <td>651191.0</td>\n",
       "      <td>0.000872</td>\n",
       "      <td>0.029521</td>\n",
       "      <td>0.0</td>\n",
       "      <td>0.0</td>\n",
       "      <td>0.0</td>\n",
       "      <td>0.0</td>\n",
       "      <td>1.0</td>\n",
       "    </tr>\n",
       "    <tr>\n",
       "      <th>%_count</th>\n",
       "      <td>651191.0</td>\n",
       "      <td>0.519502</td>\n",
       "      <td>4.462254</td>\n",
       "      <td>0.0</td>\n",
       "      <td>0.0</td>\n",
       "      <td>0.0</td>\n",
       "      <td>0.0</td>\n",
       "      <td>231.0</td>\n",
       "    </tr>\n",
       "    <tr>\n",
       "      <th>=_count</th>\n",
       "      <td>651191.0</td>\n",
       "      <td>0.603863</td>\n",
       "      <td>1.516960</td>\n",
       "      <td>0.0</td>\n",
       "      <td>0.0</td>\n",
       "      <td>0.0</td>\n",
       "      <td>0.0</td>\n",
       "      <td>51.0</td>\n",
       "    </tr>\n",
       "    <tr>\n",
       "      <th>/_count</th>\n",
       "      <td>651191.0</td>\n",
       "      <td>2.950265</td>\n",
       "      <td>1.904187</td>\n",
       "      <td>0.0</td>\n",
       "      <td>2.0</td>\n",
       "      <td>3.0</td>\n",
       "      <td>4.0</td>\n",
       "      <td>41.0</td>\n",
       "    </tr>\n",
       "    <tr>\n",
       "      <th>?_count</th>\n",
       "      <td>651191.0</td>\n",
       "      <td>0.223782</td>\n",
       "      <td>0.441220</td>\n",
       "      <td>0.0</td>\n",
       "      <td>0.0</td>\n",
       "      <td>0.0</td>\n",
       "      <td>0.0</td>\n",
       "      <td>20.0</td>\n",
       "    </tr>\n",
       "    <tr>\n",
       "      <th>:_count</th>\n",
       "      <td>651191.0</td>\n",
       "      <td>0.342509</td>\n",
       "      <td>0.600128</td>\n",
       "      <td>0.0</td>\n",
       "      <td>0.0</td>\n",
       "      <td>0.0</td>\n",
       "      <td>1.0</td>\n",
       "      <td>11.0</td>\n",
       "    </tr>\n",
       "    <tr>\n",
       "      <th>+_count</th>\n",
       "      <td>651191.0</td>\n",
       "      <td>0.068432</td>\n",
       "      <td>0.621276</td>\n",
       "      <td>0.0</td>\n",
       "      <td>0.0</td>\n",
       "      <td>0.0</td>\n",
       "      <td>0.0</td>\n",
       "      <td>37.0</td>\n",
       "    </tr>\n",
       "    <tr>\n",
       "      <th>@_count</th>\n",
       "      <td>651191.0</td>\n",
       "      <td>0.002219</td>\n",
       "      <td>0.054183</td>\n",
       "      <td>0.0</td>\n",
       "      <td>0.0</td>\n",
       "      <td>0.0</td>\n",
       "      <td>0.0</td>\n",
       "      <td>10.0</td>\n",
       "    </tr>\n",
       "    <tr>\n",
       "      <th>&amp;_count</th>\n",
       "      <td>651191.0</td>\n",
       "      <td>0.380497</td>\n",
       "      <td>1.224169</td>\n",
       "      <td>0.0</td>\n",
       "      <td>0.0</td>\n",
       "      <td>0.0</td>\n",
       "      <td>0.0</td>\n",
       "      <td>50.0</td>\n",
       "    </tr>\n",
       "    <tr>\n",
       "      <th>#_count</th>\n",
       "      <td>651191.0</td>\n",
       "      <td>0.000871</td>\n",
       "      <td>0.032327</td>\n",
       "      <td>0.0</td>\n",
       "      <td>0.0</td>\n",
       "      <td>0.0</td>\n",
       "      <td>0.0</td>\n",
       "      <td>6.0</td>\n",
       "    </tr>\n",
       "    <tr>\n",
       "      <th>&lt;_count</th>\n",
       "      <td>651191.0</td>\n",
       "      <td>0.000078</td>\n",
       "      <td>0.014291</td>\n",
       "      <td>0.0</td>\n",
       "      <td>0.0</td>\n",
       "      <td>0.0</td>\n",
       "      <td>0.0</td>\n",
       "      <td>8.0</td>\n",
       "    </tr>\n",
       "    <tr>\n",
       "      <th>&gt;_count</th>\n",
       "      <td>651191.0</td>\n",
       "      <td>0.000075</td>\n",
       "      <td>0.014819</td>\n",
       "      <td>0.0</td>\n",
       "      <td>0.0</td>\n",
       "      <td>0.0</td>\n",
       "      <td>0.0</td>\n",
       "      <td>8.0</td>\n",
       "    </tr>\n",
       "    <tr>\n",
       "      <th>^_count</th>\n",
       "      <td>651191.0</td>\n",
       "      <td>0.000129</td>\n",
       "      <td>0.018296</td>\n",
       "      <td>0.0</td>\n",
       "      <td>0.0</td>\n",
       "      <td>0.0</td>\n",
       "      <td>0.0</td>\n",
       "      <td>5.0</td>\n",
       "    </tr>\n",
       "  </tbody>\n",
       "</table>\n",
       "</div>"
      ],
      "text/plain": [
       "                   count       mean        std  min   25%   50%   75%     max\n",
       "url_len         651191.0  60.156831  44.753902  1.0  32.0  47.0  77.0  2175.0\n",
       "url_parts       651191.0   3.195453   1.490732  1.0   2.0   3.0   4.0    43.0\n",
       "suffix_len      651191.0  28.727095  36.893846  0.0   4.0  16.0  41.0  1589.0\n",
       "domain_len      651191.0  17.293960  18.012462  0.0   8.0  11.0  20.0  1007.0\n",
       "ip_present      651191.0   0.018993   0.136500  0.0   0.0   0.0   0.0     1.0\n",
       "file_extension  651191.0   0.029355   0.168801  0.0   0.0   0.0   0.0     1.0\n",
       "shorted_link    651191.0   0.000872   0.029521  0.0   0.0   0.0   0.0     1.0\n",
       "%_count         651191.0   0.519502   4.462254  0.0   0.0   0.0   0.0   231.0\n",
       "=_count         651191.0   0.603863   1.516960  0.0   0.0   0.0   0.0    51.0\n",
       "/_count         651191.0   2.950265   1.904187  0.0   2.0   3.0   4.0    41.0\n",
       "?_count         651191.0   0.223782   0.441220  0.0   0.0   0.0   0.0    20.0\n",
       ":_count         651191.0   0.342509   0.600128  0.0   0.0   0.0   1.0    11.0\n",
       "+_count         651191.0   0.068432   0.621276  0.0   0.0   0.0   0.0    37.0\n",
       "@_count         651191.0   0.002219   0.054183  0.0   0.0   0.0   0.0    10.0\n",
       "&_count         651191.0   0.380497   1.224169  0.0   0.0   0.0   0.0    50.0\n",
       "#_count         651191.0   0.000871   0.032327  0.0   0.0   0.0   0.0     6.0\n",
       "<_count         651191.0   0.000078   0.014291  0.0   0.0   0.0   0.0     8.0\n",
       ">_count         651191.0   0.000075   0.014819  0.0   0.0   0.0   0.0     8.0\n",
       "^_count         651191.0   0.000129   0.018296  0.0   0.0   0.0   0.0     5.0"
      ]
     },
     "execution_count": 38,
     "metadata": {},
     "output_type": "execute_result"
    }
   ],
   "source": [
    "df.describe().transpose()"
   ]
  },
  {
   "cell_type": "code",
   "execution_count": 41,
   "id": "0207a05f",
   "metadata": {},
   "outputs": [
    {
     "data": {
      "text/html": [
       "<div>\n",
       "<style scoped>\n",
       "    .dataframe tbody tr th:only-of-type {\n",
       "        vertical-align: middle;\n",
       "    }\n",
       "\n",
       "    .dataframe tbody tr th {\n",
       "        vertical-align: top;\n",
       "    }\n",
       "\n",
       "    .dataframe thead th {\n",
       "        text-align: right;\n",
       "    }\n",
       "</style>\n",
       "<table border=\"1\" class=\"dataframe\">\n",
       "  <thead>\n",
       "    <tr style=\"text-align: right;\">\n",
       "      <th></th>\n",
       "      <th>url_len</th>\n",
       "      <th>url_parts</th>\n",
       "      <th>suffix_len</th>\n",
       "      <th>domain_len</th>\n",
       "      <th>ip_present</th>\n",
       "      <th>file_extension</th>\n",
       "      <th>shorted_link</th>\n",
       "      <th>%_count</th>\n",
       "      <th>=_count</th>\n",
       "      <th>/_count</th>\n",
       "      <th>?_count</th>\n",
       "      <th>:_count</th>\n",
       "      <th>+_count</th>\n",
       "      <th>@_count</th>\n",
       "      <th>&amp;_count</th>\n",
       "      <th>#_count</th>\n",
       "      <th>&lt;_count</th>\n",
       "      <th>&gt;_count</th>\n",
       "      <th>^_count</th>\n",
       "    </tr>\n",
       "    <tr>\n",
       "      <th>type</th>\n",
       "      <th></th>\n",
       "      <th></th>\n",
       "      <th></th>\n",
       "      <th></th>\n",
       "      <th></th>\n",
       "      <th></th>\n",
       "      <th></th>\n",
       "      <th></th>\n",
       "      <th></th>\n",
       "      <th></th>\n",
       "      <th></th>\n",
       "      <th></th>\n",
       "      <th></th>\n",
       "      <th></th>\n",
       "      <th></th>\n",
       "      <th></th>\n",
       "      <th></th>\n",
       "      <th></th>\n",
       "      <th></th>\n",
       "    </tr>\n",
       "  </thead>\n",
       "  <tbody>\n",
       "    <tr>\n",
       "      <th>benign</th>\n",
       "      <td>57.675429</td>\n",
       "      <td>2.938421</td>\n",
       "      <td>28.500625</td>\n",
       "      <td>17.848838</td>\n",
       "      <td>0.000399</td>\n",
       "      <td>0.002200</td>\n",
       "      <td>0.001021</td>\n",
       "      <td>0.538022</td>\n",
       "      <td>0.322663</td>\n",
       "      <td>2.735360</td>\n",
       "      <td>0.180781</td>\n",
       "      <td>0.094276</td>\n",
       "      <td>0.099689</td>\n",
       "      <td>0.001577</td>\n",
       "      <td>0.147654</td>\n",
       "      <td>0.000348</td>\n",
       "      <td>0.000021</td>\n",
       "      <td>0.000033</td>\n",
       "      <td>0.000082</td>\n",
       "    </tr>\n",
       "    <tr>\n",
       "      <th>defacement</th>\n",
       "      <td>86.339395</td>\n",
       "      <td>3.844926</td>\n",
       "      <td>44.987673</td>\n",
       "      <td>17.187337</td>\n",
       "      <td>0.000000</td>\n",
       "      <td>0.000156</td>\n",
       "      <td>0.000010</td>\n",
       "      <td>0.041241</td>\n",
       "      <td>2.324860</td>\n",
       "      <td>3.826078</td>\n",
       "      <td>0.570099</td>\n",
       "      <td>1.239329</td>\n",
       "      <td>0.007319</td>\n",
       "      <td>0.000021</td>\n",
       "      <td>1.730180</td>\n",
       "      <td>0.000010</td>\n",
       "      <td>0.000021</td>\n",
       "      <td>0.000021</td>\n",
       "      <td>0.000000</td>\n",
       "    </tr>\n",
       "    <tr>\n",
       "      <th>malware</th>\n",
       "      <td>56.542958</td>\n",
       "      <td>3.814053</td>\n",
       "      <td>20.736439</td>\n",
       "      <td>17.425523</td>\n",
       "      <td>0.362485</td>\n",
       "      <td>0.201415</td>\n",
       "      <td>0.000000</td>\n",
       "      <td>3.028321</td>\n",
       "      <td>0.411900</td>\n",
       "      <td>4.016328</td>\n",
       "      <td>0.127737</td>\n",
       "      <td>1.118788</td>\n",
       "      <td>0.022694</td>\n",
       "      <td>0.001292</td>\n",
       "      <td>0.285086</td>\n",
       "      <td>0.000031</td>\n",
       "      <td>0.000000</td>\n",
       "      <td>0.000031</td>\n",
       "      <td>0.000000</td>\n",
       "    </tr>\n",
       "    <tr>\n",
       "      <th>phishing</th>\n",
       "      <td>45.858051</td>\n",
       "      <td>3.485246</td>\n",
       "      <td>15.852536</td>\n",
       "      <td>14.833686</td>\n",
       "      <td>0.004346</td>\n",
       "      <td>0.123354</td>\n",
       "      <td>0.001381</td>\n",
       "      <td>0.058516</td>\n",
       "      <td>0.185451</td>\n",
       "      <td>2.661825</td>\n",
       "      <td>0.097629</td>\n",
       "      <td>0.284281</td>\n",
       "      <td>0.004686</td>\n",
       "      <td>0.007714</td>\n",
       "      <td>0.089320</td>\n",
       "      <td>0.004420</td>\n",
       "      <td>0.000425</td>\n",
       "      <td>0.000340</td>\n",
       "      <td>0.000521</td>\n",
       "    </tr>\n",
       "  </tbody>\n",
       "</table>\n",
       "</div>"
      ],
      "text/plain": [
       "              url_len  url_parts  suffix_len  domain_len  ip_present  \\\n",
       "type                                                                   \n",
       "benign      57.675429   2.938421   28.500625   17.848838    0.000399   \n",
       "defacement  86.339395   3.844926   44.987673   17.187337    0.000000   \n",
       "malware     56.542958   3.814053   20.736439   17.425523    0.362485   \n",
       "phishing    45.858051   3.485246   15.852536   14.833686    0.004346   \n",
       "\n",
       "            file_extension  shorted_link   %_count   =_count   /_count  \\\n",
       "type                                                                     \n",
       "benign            0.002200      0.001021  0.538022  0.322663  2.735360   \n",
       "defacement        0.000156      0.000010  0.041241  2.324860  3.826078   \n",
       "malware           0.201415      0.000000  3.028321  0.411900  4.016328   \n",
       "phishing          0.123354      0.001381  0.058516  0.185451  2.661825   \n",
       "\n",
       "             ?_count   :_count   +_count   @_count   &_count   #_count  \\\n",
       "type                                                                     \n",
       "benign      0.180781  0.094276  0.099689  0.001577  0.147654  0.000348   \n",
       "defacement  0.570099  1.239329  0.007319  0.000021  1.730180  0.000010   \n",
       "malware     0.127737  1.118788  0.022694  0.001292  0.285086  0.000031   \n",
       "phishing    0.097629  0.284281  0.004686  0.007714  0.089320  0.004420   \n",
       "\n",
       "             <_count   >_count   ^_count  \n",
       "type                                      \n",
       "benign      0.000021  0.000033  0.000082  \n",
       "defacement  0.000021  0.000021  0.000000  \n",
       "malware     0.000000  0.000031  0.000000  \n",
       "phishing    0.000425  0.000340  0.000521  "
      ]
     },
     "execution_count": 41,
     "metadata": {},
     "output_type": "execute_result"
    }
   ],
   "source": [
    "## Noticed the malware url's have significantly more IP's and % signs present than the rest of the other types\n",
    "df.groupby(\"type\").mean()"
   ]
  },
  {
   "cell_type": "code",
   "execution_count": 42,
   "id": "2a06e1ac",
   "metadata": {},
   "outputs": [
    {
     "data": {
      "text/plain": [
       "<AxesSubplot:xlabel='type'>"
      ]
     },
     "execution_count": 42,
     "metadata": {},
     "output_type": "execute_result"
    },
    {
     "data": {
      "image/png": "[encoded data removed]",
      "text/plain": [
       "<Figure size 640x480 with 1 Axes>"
      ]
     },
     "metadata": {},
     "output_type": "display_data"
    }
   ],
   "source": [
    "## Plot of the finding\n",
    "df.groupby(\"type\")[\"ip_present\"].mean().plot(kind=\"bar\")"
   ]
  },
  {
   "cell_type": "code",
   "execution_count": 49,
   "id": "129cc5d6",
   "metadata": {},
   "outputs": [
    {
     "data": {
      "text/plain": [
       "<AxesSubplot:xlabel='type', ylabel='count'>"
      ]
     },
     "execution_count": 49,
     "metadata": {},
     "output_type": "execute_result"
    },
    {
     "data": {
      "image/png": "[encoded data removed]",
      "text/plain": [
       "<Figure size 640x480 with 1 Axes>"
      ]
     },
     "metadata": {},
     "output_type": "display_data"
    }
   ],
   "source": [
    "sns.countplot(data=df, x=\"type\")"
   ]
  },
  {
   "cell_type": "markdown",
   "id": "f91ca3d7",
   "metadata": {},
   "source": [
    "## Train | Test Split"
   ]
  },
  {
   "cell_type": "code",
   "execution_count": null,
   "id": "5e2c3b71",
   "metadata": {},
   "outputs": [],
   "source": [
    "from sklearn.model_selection import train_test_split\n",
    "from sklearn.preprocessing import StandardScaler"
   ]
  },
  {
   "cell_type": "code",
   "execution_count": null,
   "id": "f31adb57",
   "metadata": {},
   "outputs": [],
   "source": [
    "df = df.drop(\"url\",axis=1)"
   ]
  },
  {
   "cell_type": "code",
   "execution_count": null,
   "id": "25b2c817",
   "metadata": {},
   "outputs": [],
   "source": [
    "X = df.drop(\"type\",axis=1)\n",
    "y = df[\"type\"]"
   ]
  },
  {
   "cell_type": "code",
   "execution_count": null,
   "id": "57c986e2",
   "metadata": {},
   "outputs": [],
   "source": [
    "X_train, X_test, y_train, y_test = train_test_split(X, y, test_size=0.3, random_state=101)"
   ]
  },
  {
   "cell_type": "code",
   "execution_count": null,
   "id": "07c62c86",
   "metadata": {},
   "outputs": [],
   "source": [
    "scaler = StandardScaler()"
   ]
  },
  {
   "cell_type": "code",
   "execution_count": null,
   "id": "7f3c47af",
   "metadata": {},
   "outputs": [],
   "source": [
    "scaled_X_train = scaler.fit_transform(X_train)\n",
    "scaled_X_test = scaler.transform(X_test)"
   ]
  },
  {
   "cell_type": "code",
   "execution_count": null,
   "id": "6ce60905",
   "metadata": {},
   "outputs": [],
   "source": [
    "from sklearn.linear_model import LogisticRegression"
   ]
  },
  {
   "cell_type": "code",
   "execution_count": null,
   "id": "c4af7932",
   "metadata": {},
   "outputs": [],
   "source": [
    "from sklearn.model_selection import GridSearchCV"
   ]
  },
  {
   "cell_type": "code",
   "execution_count": null,
   "id": "3f01ee6d",
   "metadata": {},
   "outputs": [],
   "source": [
    "log_model = LogisticRegression(solver='saga',multi_class=\"ovr\",max_iter=50)"
   ]
  },
  {
   "cell_type": "code",
   "execution_count": null,
   "id": "a51b2c31",
   "metadata": {},
   "outputs": [],
   "source": [
    "# Penalty Type\n",
    "penalty = ['l1', 'l2']\n",
    "\n",
    "# Use logarithmically spaced C values (recommended in official docs)\n",
    "C = np.logspace(0, 4, 10)"
   ]
  },
  {
   "cell_type": "code",
   "execution_count": null,
   "id": "bcf4aae6",
   "metadata": {},
   "outputs": [],
   "source": [
    "log_model.fit(scaled_X_train,y_train)"
   ]
  },
  {
   "cell_type": "code",
   "execution_count": null,
   "id": "1c911491",
   "metadata": {},
   "outputs": [],
   "source": [
    "from sklearn.metrics import accuracy_score,confusion_matrix,classification_report,plot_confusion_matrix"
   ]
  },
  {
   "cell_type": "code",
   "execution_count": null,
   "id": "27b8fa2c",
   "metadata": {},
   "outputs": [],
   "source": [
    "y_pred = log_model.predict(scaled_X_test)"
   ]
  },
  {
   "cell_type": "code",
   "execution_count": null,
   "id": "da3c4b48",
   "metadata": {},
   "outputs": [],
   "source": [
    "accuracy_score(y_test,y_pred)"
   ]
  },
  {
   "cell_type": "code",
   "execution_count": null,
   "id": "64def631",
   "metadata": {},
   "outputs": [],
   "source": [
    "confusion_matrix(y_test,y_pred)"
   ]
  },
  {
   "cell_type": "code",
   "execution_count": null,
   "id": "c62f35d2",
   "metadata": {},
   "outputs": [],
   "source": [
    "plot_confusion_matrix(log_model,scaled_X_test,y_test)"
   ]
  },
  {
   "cell_type": "code",
   "execution_count": null,
   "id": "b331b35e",
   "metadata": {},
   "outputs": [],
   "source": [
    "log_model"
   ]
  },
  {
   "cell_type": "code",
   "execution_count": null,
   "id": "da80ad71",
   "metadata": {},
   "outputs": [],
   "source": [
    "from sklearn.ensemble import RandomForestClassifier"
   ]
  },
  {
   "cell_type": "code",
   "execution_count": null,
   "id": "21e1ab25",
   "metadata": {},
   "outputs": [],
   "source": [
    "model = RandomForestClassifier(n_estimators=10,max_features='auto',random_state=101)"
   ]
  },
  {
   "cell_type": "code",
   "execution_count": null,
   "id": "fec74a1f",
   "metadata": {},
   "outputs": [],
   "source": [
    "model.fit(scaled_X_train,y_train)"
   ]
  },
  {
   "cell_type": "code",
   "execution_count": null,
   "id": "b4a030b5",
   "metadata": {},
   "outputs": [],
   "source": [
    "preds = model.predict(X_test)"
   ]
  },
  {
   "cell_type": "code",
   "execution_count": null,
   "id": "3d2fc3e5",
   "metadata": {},
   "outputs": [],
   "source": [
    "confusion_matrix(y_test,preds)"
   ]
  },
  {
   "cell_type": "code",
   "execution_count": null,
   "id": "c5ee52e9",
   "metadata": {},
   "outputs": [],
   "source": [
    "plot_confusion_matrix(model,X_test,y_test)"
   ]
  },
  {
   "cell_type": "code",
   "execution_count": null,
   "id": "e7fad2af",
   "metadata": {},
   "outputs": [],
   "source": [
    "model.feature_importances_"
   ]
  },
  {
   "cell_type": "code",
   "execution_count": null,
   "id": "502eed55",
   "metadata": {},
   "outputs": [],
   "source": [
    "print(classification_report(y_test,preds))"
   ]
  },
  {
   "cell_type": "code",
   "execution_count": null,
   "id": "5006469c",
   "metadata": {},
   "outputs": [],
   "source": []
  }
 ],
 "metadata": {
  "kernelspec": {
   "display_name": "Python 3 (ipykernel)",
   "language": "python",
   "name": "python3"
  },
  "language_info": {
   "codemirror_mode": {
    "name": "ipython",
    "version": 3
   },
   "file_extension": ".py",
   "mimetype": "text/x-python",
   "name": "python",
   "nbconvert_exporter": "python",
   "pygments_lexer": "ipython3",
   "version": "3.9.13"
  }
 },
 "nbformat": 4,
 "nbformat_minor": 5
}
